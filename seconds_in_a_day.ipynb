{
 "cells": [
  {
   "cell_type": "code",
   "execution_count": 70,
   "metadata": {},
   "outputs": [],
   "source": [
    "import pandas as pd\n",
    "import seaborn as sns\n",
    "import matplotlib.pyplot as plt\n",
    "sns.set(color_codes=True, style='whitegrid')"
   ]
  },
  {
   "cell_type": "code",
   "execution_count": 56,
   "metadata": {},
   "outputs": [],
   "source": [
    "import math"
   ]
  },
  {
   "cell_type": "code",
   "execution_count": 104,
   "metadata": {},
   "outputs": [],
   "source": [
    "n = 86400 # seconds in a day"
   ]
  },
  {
   "cell_type": "code",
   "execution_count": 110,
   "metadata": {},
   "outputs": [],
   "source": [
    "sqrt_b = math.sqrt(n)"
   ]
  },
  {
   "cell_type": "code",
   "execution_count": 115,
   "metadata": {},
   "outputs": [
    {
     "name": "stdout",
     "output_type": "stream",
     "text": [
      "max_x: 300\n",
      "max_y: 288\n"
     ]
    }
   ],
   "source": [
    "max_x = 100*round(sqrt_b/100.0)\n",
    "max_y = round(n / max_x)\n",
    "print(f\"max_x: {max_x}\")\n",
    "print(f\"max_y: {max_y}\")"
   ]
  },
  {
   "cell_type": "code",
   "execution_count": 116,
   "metadata": {},
   "outputs": [],
   "source": [
    "### prepare dataframe to plot\n",
    "data = []\n",
    "for x in range(1,max_x+1):\n",
    "    for y in range(1,max_y+1):\n",
    "        data.append([x,y])\n",
    "pd_plot = pd.DataFrame(data, columns=[\"x\",\"y\"])"
   ]
  },
  {
   "cell_type": "code",
   "execution_count": 129,
   "metadata": {},
   "outputs": [],
   "source": [
    "fig, ax = plt.subplots(figsize=(120, 120))\n",
    "ax = sns.regplot(x='x', y='y', data=pd_plot, fit_reg=False, \n",
    "                 marker='o', color='black', \n",
    "                 scatter_kws={'facecolors':'black', 's':50}\n",
    "                )\n",
    "# sns.scatterplot(x='x', y='y', data=pd_plot, )\n",
    "ax.set_xlim(0,max_x+1)\n",
    "ax.set_ylim(0,max_y+1)\n",
    "plt.xlabel('seconds in a day', fontsize=50)\n",
    "plt.ylabel('', fontsize=0)\n",
    "ax.tick_params(axis='both', which='major', labelsize=20)\n",
    "fig.savefig(\"seconds_in_a_day.png\")"
   ]
  },
  {
   "cell_type": "code",
   "execution_count": 126,
   "metadata": {},
   "outputs": [],
   "source": []
  },
  {
   "cell_type": "code",
   "execution_count": null,
   "metadata": {},
   "outputs": [],
   "source": []
  }
 ],
 "metadata": {
  "kernelspec": {
   "display_name": "Python 3.7.6 64-bit ('base': conda)",
   "language": "python",
   "name": "python37664bitbasecondad07c4766f0df47d18364a2213b62f3bc"
  },
  "language_info": {
   "codemirror_mode": {
    "name": "ipython",
    "version": 3
   },
   "file_extension": ".py",
   "mimetype": "text/x-python",
   "name": "python",
   "nbconvert_exporter": "python",
   "pygments_lexer": "ipython3",
   "version": "3.7.6"
  }
 },
 "nbformat": 4,
 "nbformat_minor": 4
}
